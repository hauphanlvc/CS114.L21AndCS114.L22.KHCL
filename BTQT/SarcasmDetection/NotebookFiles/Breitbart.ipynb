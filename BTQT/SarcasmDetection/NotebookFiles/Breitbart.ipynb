{
  "nbformat": 4,
  "nbformat_minor": 0,
  "metadata": {
    "colab": {
      "name": "Breitbart.ipynb",
      "provenance": []
    },
    "kernelspec": {
      "display_name": "Python 3",
      "name": "python3"
    },
    "language_info": {
      "name": "python"
    }
  },
  "cells": [
    {
      "cell_type": "code",
      "metadata": {
        "id": "chpvEO62SVJV"
      },
      "source": [
        "from bs4 import BeautifulSoup\n",
        "import lxml\n",
        "import csv\n",
        "from urllib.request import Request, urlopen\n",
        "\n",
        "\n",
        "def get_content(url):\n",
        "  req = Request(url, headers={'User-Agent': 'Mozilla/5.0'})\n",
        "  webpage = urlopen(req).read()\n",
        "\n",
        "  return webpage\n",
        "url='https://www.breitbart.com/?fbclid=IwAR2UPAhsOnYtlAKyTISt3C488eyooGnYVr1V5RZPhWGFHU9DVG5rdM_GjLI'\n",
        "page = get_content(url)\n",
        "soup = BeautifulSoup(page,'lxml')\n",
        "#print(soup.prettify())\n"
      ],
      "execution_count": 2,
      "outputs": []
    },
    {
      "cell_type": "code",
      "metadata": {
        "id": "m5JcO8OfSbFS"
      },
      "source": [
        "category = soup.find(\"ul\",id=\"NavT\").find_all('a')"
      ],
      "execution_count": 3,
      "outputs": []
    },
    {
      "cell_type": "code",
      "metadata": {
        "colab": {
          "base_uri": "https://localhost:8080/"
        },
        "id": "IDhOc5zbSex7",
        "outputId": "d9f05d06-8a11-49bc-d8d0-ef062df676d1"
      },
      "source": [
        "list_url_category = []\n",
        "c=0\n",
        "for i in category:\n",
        "  c+=1\n",
        "  if (i.get(\"href\")!=None) and (c!=13):\n",
        "    list_url_category.append(i.get(\"href\"))\n",
        "for i in list_url_category:\n",
        "  print(i)"
      ],
      "execution_count": 4,
      "outputs": [
        {
          "output_type": "stream",
          "text": [
            "https://www.breitbart.com/politics/\n",
            "https://www.breitbart.com/entertainment/\n",
            "https://www.breitbart.com/the-media/\n",
            "https://www.breitbart.com/economy/\n",
            "https://www.breitbart.com/europe/\n",
            "https://www.breitbart.com/border/\n",
            "https://www.breitbart.com/middle-east/\n",
            "https://www.breitbart.com/africa/\n",
            "https://www.breitbart.com/asia/\n",
            "https://www.breitbart.com/latin-america/\n",
            "https://www.breitbart.com/world-news/\n",
            "https://www.breitbart.com/tech/\n",
            "https://www.breitbart.com/sports/\n",
            "https://www.breitbart.com/tag/on-the-hill/\n",
            "/news/\n",
            "https://www.breitbart.com/tag/b-inspired-news/\n"
          ],
          "name": "stdout"
        }
      ]
    },
    {
      "cell_type": "code",
      "metadata": {
        "colab": {
          "base_uri": "https://localhost:8080/",
          "height": 708
        },
        "id": "qJw_WAY5SoYT",
        "outputId": "1a413419-46df-4236-af76-f05fc0a5be0f"
      },
      "source": [
        "import pandas as pd\n",
        "df = pd.DataFrame()\n",
        "title = []\n",
        "href = []\n",
        "is_sarcastic = []\n",
        "for path_category in list_url_category:\n",
        "  flag = False\n",
        "  url = path_category \n",
        "  count=0\n",
        "  print(url)\n",
        "  while flag == False :\n",
        "    try: \n",
        "      page = get_content(url)\n",
        "    except:\n",
        "      pass\n",
        "    soup = BeautifulSoup(page,'lxml')\n",
        "    # print(soup.prettify())\n",
        "    list_news = soup.find_all(\"div\",class_=\"tC\")\n",
        "    data_ = []\n",
        "    date=[]\n",
        "    for x in list_news:\n",
        "      data_.extend(x.find_all(\"h2\"))\n",
        "      date.extend(x.find_all(\"time\"))\n",
        "    b=[]\n",
        "    for x in data_:\n",
        "      b.extend(x.find_all(\"a\"))\n",
        "    for i in range(len(date)):\n",
        "      if (int(date[i].get(\"datetime\")[0:4]) <= 2019):\n",
        "        flag = True \n",
        "        break\n",
        "      if (count==5000):\n",
        "        flag=True\n",
        "        break\n",
        "      is_sarcastic.append(1)\n",
        "      title.append(b[i].get(\"title\"))\n",
        "      href.append(b[i].get(\"href\"))\n",
        "      count+=1\n",
        "    next_page = soup.find_all(\"nav\",class_ = \"pagination\")\n",
        "    x = next_page[0].find_all(\"a\")\n",
        "    url  = path_category + x[0].get(\"href\")\n",
        "    # page = get_content(l)\n",
        "    # soup = BeautifulSoup(page,'lxml')\n",
        "    # print(soup.prettify())\n",
        "    \n",
        "df['is_sarcastic'] = is_sarcastic\n",
        "df['headline'] = title\n",
        "df['article_link'] = href\n",
        "display(df)\n",
        "print(len(df))"
      ],
      "execution_count": 6,
      "outputs": [
        {
          "output_type": "stream",
          "text": [
            "https://www.breitbart.com/politics/\n",
            "https://www.breitbart.com/entertainment/\n",
            "https://www.breitbart.com/the-media/\n",
            "https://www.breitbart.com/economy/\n",
            "https://www.breitbart.com/europe/\n",
            "https://www.breitbart.com/border/\n",
            "https://www.breitbart.com/middle-east/\n",
            "https://www.breitbart.com/africa/\n",
            "https://www.breitbart.com/asia/\n",
            "https://www.breitbart.com/latin-america/\n",
            "https://www.breitbart.com/world-news/\n",
            "https://www.breitbart.com/tech/\n",
            "https://www.breitbart.com/sports/\n",
            "https://www.breitbart.com/tag/on-the-hill/\n",
            "/news/\n",
            "https://www.breitbart.com/tag/b-inspired-news/\n"
          ],
          "name": "stdout"
        },
        {
          "output_type": "display_data",
          "data": {
            "text/html": [
              "<div>\n",
              "<style scoped>\n",
              "    .dataframe tbody tr th:only-of-type {\n",
              "        vertical-align: middle;\n",
              "    }\n",
              "\n",
              "    .dataframe tbody tr th {\n",
              "        vertical-align: top;\n",
              "    }\n",
              "\n",
              "    .dataframe thead th {\n",
              "        text-align: right;\n",
              "    }\n",
              "</style>\n",
              "<table border=\"1\" class=\"dataframe\">\n",
              "  <thead>\n",
              "    <tr style=\"text-align: right;\">\n",
              "      <th></th>\n",
              "      <th>is_sarcastic</th>\n",
              "      <th>headline</th>\n",
              "      <th>article_link</th>\n",
              "    </tr>\n",
              "  </thead>\n",
              "  <tbody>\n",
              "    <tr>\n",
              "      <th>0</th>\n",
              "      <td>1</td>\n",
              "      <td>Delingpole: Come Back Theresa May, (Almost) Al...</td>\n",
              "      <td>/europe/2021/06/12/delingpole-come-back-theres...</td>\n",
              "    </tr>\n",
              "    <tr>\n",
              "      <th>1</th>\n",
              "      <td>1</td>\n",
              "      <td>French Conservative Magazine Takes Legal Actio...</td>\n",
              "      <td>/europe/2021/06/12/french-conservative-magazin...</td>\n",
              "    </tr>\n",
              "    <tr>\n",
              "      <th>2</th>\n",
              "      <td>1</td>\n",
              "      <td>Hong Kong Democracy Activist Agnes Chow Releas...</td>\n",
              "      <td>/europe/2021/06/12/hong-kong-democracy-activis...</td>\n",
              "    </tr>\n",
              "    <tr>\n",
              "      <th>3</th>\n",
              "      <td>1</td>\n",
              "      <td>Blair Says Vaccinated Should Enjoy ‘Greater Fr...</td>\n",
              "      <td>/europe/2021/06/12/blair-says-vaccinated-shoul...</td>\n",
              "    </tr>\n",
              "    <tr>\n",
              "      <th>4</th>\n",
              "      <td>1</td>\n",
              "      <td>Crenshaw: Omar Grouping U.S., Israel with Terr...</td>\n",
              "      <td>/clips/2021/06/12/crenshaw-omar-grouping-u-s-i...</td>\n",
              "    </tr>\n",
              "    <tr>\n",
              "      <th>...</th>\n",
              "      <td>...</td>\n",
              "      <td>...</td>\n",
              "      <td>...</td>\n",
              "    </tr>\n",
              "    <tr>\n",
              "      <th>66723</th>\n",
              "      <td>1</td>\n",
              "      <td>None</td>\n",
              "      <td>/health/2021/06/08/watch-family-helps-reunite-...</td>\n",
              "    </tr>\n",
              "    <tr>\n",
              "      <th>66724</th>\n",
              "      <td>1</td>\n",
              "      <td>None</td>\n",
              "      <td>/education/2021/06/07/video-12-year-old-boy-gr...</td>\n",
              "    </tr>\n",
              "    <tr>\n",
              "      <th>66725</th>\n",
              "      <td>1</td>\n",
              "      <td>None</td>\n",
              "      <td>/health/2021/06/06/watch-rookie-officer-saves-...</td>\n",
              "    </tr>\n",
              "    <tr>\n",
              "      <th>66726</th>\n",
              "      <td>1</td>\n",
              "      <td>WATCH - Teen Paralyzed in Football Game Walks ...</td>\n",
              "      <td>/health/2021/06/06/watch-teen-paralyzed-footba...</td>\n",
              "    </tr>\n",
              "    <tr>\n",
              "      <th>66727</th>\n",
              "      <td>1</td>\n",
              "      <td>WATCH: Toddler with Special Needs Sees Parents...</td>\n",
              "      <td>/health/2021/06/03/watch-toddler-special-needs...</td>\n",
              "    </tr>\n",
              "  </tbody>\n",
              "</table>\n",
              "<p>66728 rows × 3 columns</p>\n",
              "</div>"
            ],
            "text/plain": [
              "       is_sarcastic  ...                                       article_link\n",
              "0                 1  ...  /europe/2021/06/12/delingpole-come-back-theres...\n",
              "1                 1  ...  /europe/2021/06/12/french-conservative-magazin...\n",
              "2                 1  ...  /europe/2021/06/12/hong-kong-democracy-activis...\n",
              "3                 1  ...  /europe/2021/06/12/blair-says-vaccinated-shoul...\n",
              "4                 1  ...  /clips/2021/06/12/crenshaw-omar-grouping-u-s-i...\n",
              "...             ...  ...                                                ...\n",
              "66723             1  ...  /health/2021/06/08/watch-family-helps-reunite-...\n",
              "66724             1  ...  /education/2021/06/07/video-12-year-old-boy-gr...\n",
              "66725             1  ...  /health/2021/06/06/watch-rookie-officer-saves-...\n",
              "66726             1  ...  /health/2021/06/06/watch-teen-paralyzed-footba...\n",
              "66727             1  ...  /health/2021/06/03/watch-toddler-special-needs...\n",
              "\n",
              "[66728 rows x 3 columns]"
            ]
          },
          "metadata": {
            "tags": []
          }
        },
        {
          "output_type": "stream",
          "text": [
            "66728\n"
          ],
          "name": "stdout"
        }
      ]
    },
    {
      "cell_type": "code",
      "metadata": {
        "id": "ZZIVyByxSpFI"
      },
      "source": [
        "def line(headline,article_link,is_sarcastic):\n",
        "    article_link='https://www.breitbart.com'+article_link\n",
        "    line = '{\"article_link\": ' + '\"' + article_link + '\", \"headline\": \"' + headline + '\", \"is_sarcastic\": ' + str(is_sarcastic) + '}\\n'\n",
        "    return line"
      ],
      "execution_count": 7,
      "outputs": []
    },
    {
      "cell_type": "code",
      "metadata": {
        "id": "8j4dXUL6ZEgu"
      },
      "source": [
        "import sys,os\n",
        "f=open('breitbart.json','w')\n",
        "for i in range(len(df)):\n",
        "  if (df['headline'][i]!=None):\n",
        "    f.write(line(df['headline'][i],df['article_link'][i],df['is_sarcastic'][i])+'\\n')\n",
        "f.close()"
      ],
      "execution_count": 8,
      "outputs": []
    },
    {
      "cell_type": "markdown",
      "metadata": {
        "id": "IJXV_0-fmWA7"
      },
      "source": [
        "# Báo **cáo**\n",
        "\n",
        "Với website https://www.breitbart.com/, lấy headline ở các mục lục page sau:\n",
        "https://www.breitbart.com/politics/\n",
        "https://www.breitbart.com/entertainment/\n",
        "https://www.breitbart.com/the-media/\n",
        "https://www.breitbart.com/economy/\n",
        "https://www.breitbart.com/europe/\n",
        "https://www.breitbart.com/border/\n",
        "https://www.breitbart.com/middle-east/\n",
        "https://www.breitbart.com/africa/\n",
        "https://www.breitbart.com/asia/\n",
        "https://www.breitbart.com/latin-america/\n",
        "https://www.breitbart.com/world-news/\n",
        "https://www.breitbart.com/tech/\n",
        "https://www.breitbart.com/sports/\n",
        "https://www.breitbart.com/tag/on-the-hill/\n",
        "/news/\n",
        "https://www.breitbart.com/tag/b-inspired-news/\n",
        "\n",
        "Với mỗi mục lục page sẽ tiến hành chạy từng trang 1(giới hạn bài báo cho mỗi mục lục page là 5000 bài):\n",
        "\n",
        "\n",
        "*   Thu thập headline và link dẫn từng bài báo\n",
        "*   Lấy ra thời gian đăng bài báo và chỉ chọn những bài báo được đăng trong 2 năm trở lại đây\n",
        "* Chạy đến cuối trang thì chuyển sang trang báo tiếp theo\n",
        "\n"
      ]
    }
  ]
}