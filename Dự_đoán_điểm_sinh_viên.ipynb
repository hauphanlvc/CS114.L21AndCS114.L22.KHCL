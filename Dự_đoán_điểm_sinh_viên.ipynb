{
  "nbformat": 4,
  "nbformat_minor": 0,
  "metadata": {
    "colab": {
      "name": "Dự đoán điểm sinh viên.ipynb",
      "provenance": [],
      "authorship_tag": "ABX9TyNlKy2bQvi53y49xxrGZhEu",
      "include_colab_link": true
    },
    "kernelspec": {
      "name": "python3",
      "display_name": "Python 3"
    },
    "language_info": {
      "name": "python"
    }
  },
  "cells": [
    {
      "cell_type": "markdown",
      "metadata": {
        "id": "view-in-github",
        "colab_type": "text"
      },
      "source": [
        "<a href=\"https://colab.research.google.com/github/hauphanlvc/CS114.L21AndCS114.L22.KHCL/blob/main/D%E1%BB%B1_%C4%91o%C3%A1n_%C4%91i%E1%BB%83m_sinh_vi%C3%AAn.ipynb\" target=\"_parent\"><img src=\"https://colab.research.google.com/assets/colab-badge.svg\" alt=\"Open In Colab\"/></a>"
      ]
    },
    {
      "cell_type": "code",
      "metadata": {
        "colab": {
          "base_uri": "https://localhost:8080/"
        },
        "id": "Ula5fsBt0D5w",
        "outputId": "dddfea06-2c15-4c10-b2d9-19f8686f57c2"
      },
      "source": [
        "from google.colab import drive\n",
        "drive.mount('/content/gdrive')"
      ],
      "execution_count": 2,
      "outputs": [
        {
          "output_type": "stream",
          "text": [
            "Mounted at /content/gdrive\n"
          ],
          "name": "stdout"
        }
      ]
    },
    {
      "cell_type": "code",
      "metadata": {
        "id": "q-TJuvmy4zoB",
        "colab": {
          "base_uri": "https://localhost:8080/"
        },
        "outputId": "c726a0c0-3d6c-4e5d-c288-e2743416934e"
      },
      "source": [
        "import pandas as pd\n",
        "path1='/content/gdrive/MyDrive/score_training.csv'\n",
        "path2='/content/gdrive/MyDrive/Diemcuoiky/wecode.csv'\n",
        "df1=pd.read_csv(path1)\n",
        "df2=pd.read_csv(path2)"
      ],
      "execution_count": 38,
      "outputs": [
        {
          "output_type": "stream",
          "text": [
            "<class 'pandas.core.frame.DataFrame'>\n"
          ],
          "name": "stdout"
        }
      ]
    },
    {
      "cell_type": "markdown",
      "metadata": {
        "id": "IroYBRN66Sbh"
      },
      "source": [
        "**Data Discovery**"
      ]
    },
    {
      "cell_type": "code",
      "metadata": {
        "id": "lxFuagZt5lGS"
      },
      "source": [
        "#df2.shape\n",
        "#df2.head()"
      ],
      "execution_count": 4,
      "outputs": []
    },
    {
      "cell_type": "code",
      "metadata": {
        "colab": {
          "base_uri": "https://localhost:8080/"
        },
        "id": "d4INfWPm6Qlj",
        "outputId": "a2b8163b-3252-4781-b11c-f9f0b2c4a432"
      },
      "source": [
        "#Đếm số lượng sinh viên nộp bài\n",
        "count_user=df2.groupby(\"user_id\")\n",
        "print(len(count_user))\n",
        "\n",
        "#Đếm số lần nộp bài của sinh viên\n",
        "count_solannopbai=count_user['user_id'].count()\n",
        "print(count_solannopbai)\n",
        "\n",
        "#Tổng điểm của từng sinh viên\n",
        "point=count_user['pre_score'].agg('sum')\n",
        "point=point.reset_index(name='Point')\n",
        "point=point.rename(columns = {'user_id':'id'})\n",
        "print(point.head(25))"
      ],
      "execution_count": 23,
      "outputs": [
        {
          "output_type": "stream",
          "text": [
            "1159\n",
            "    id    Point\n",
            "0    1    10000\n",
            "1    4   466000\n",
            "2    5    30000\n",
            "3    6   965637\n",
            "4    7    18843\n",
            "5   11   317268\n",
            "6   14   130428\n",
            "7   15   629946\n",
            "8   20   120000\n",
            "9   24  1031674\n",
            "10  27    52000\n",
            "11  29  1225828\n",
            "12  31    89000\n",
            "13  34  1206981\n",
            "14  35  1809718\n",
            "15  37  1550820\n",
            "16  40  3356653\n",
            "17  41   831328\n",
            "18  42  2411386\n",
            "19  43  2378013\n",
            "20  45  1038144\n",
            "21  47   953523\n",
            "22  48   225285\n",
            "23  49  1284084\n",
            "24  51   446194\n"
          ],
          "name": "stdout"
        }
      ]
    },
    {
      "cell_type": "markdown",
      "metadata": {
        "id": "UeANKRBdA7ex"
      },
      "source": [
        "# **Scatteplot** \n",
        "//tìm thông số ảnh hưởng đến điểm thi cuối kỳ "
      ]
    },
    {
      "cell_type": "code",
      "metadata": {
        "id": "vsYR-cVp0Bfc"
      },
      "source": [
        "%matplotlib inline\n",
        "import matplotlib as mpl\n",
        "import matplotlib.pyplot as plt\n",
        "import numpy as np\n"
      ],
      "execution_count": 8,
      "outputs": []
    },
    {
      "cell_type": "code",
      "metadata": {
        "id": "z8Fus1feM9zI"
      },
      "source": [
        "mpl.style.use(['ggplot'])"
      ],
      "execution_count": 9,
      "outputs": []
    },
    {
      "cell_type": "code",
      "metadata": {
        "colab": {
          "base_uri": "https://localhost:8080/",
          "height": 384
        },
        "id": "uu3VwocOO38j",
        "outputId": "493aa6ce-c185-41c4-e4ee-653ab54dd945"
      },
      "source": [
        "# Tương quan giữa điểm tổng bài nộp và điểm thi cuối kỳ\n",
        "df=pd.merge(point,df1,on=['id'])  #hợp 2 bảng theo id\n",
        "df=df[['Point','CK']]             #lấy 2 cột Point và CK\n",
        "df=pd.DataFrame(df)\n",
        "df=df.astype('str')\n",
        "\n",
        "df.plot(kind='scatter',x='Point',y='CK',figsize=(20,10),color='darkblue')\n",
        "plt.title('Điểm bài nộp vs Điểm cuối kỳ')\n",
        "plt.xlabel('Điểm bài nộp')\n",
        "plt.ylabel('Điểm cuối kỳ')\n",
        "\n",
        "plt.show()"
      ],
      "execution_count": 57,
      "outputs": [
        {
          "output_type": "error",
          "ename": "UFuncTypeError",
          "evalue": "ignored",
          "traceback": [
            "\u001b[0;31m---------------------------------------------------------------------------\u001b[0m",
            "\u001b[0;31mUFuncTypeError\u001b[0m                            Traceback (most recent call last)",
            "\u001b[0;32m<ipython-input-57-13f37200d601>\u001b[0m in \u001b[0;36m<module>\u001b[0;34m()\u001b[0m\n\u001b[1;32m      7\u001b[0m \u001b[0mx\u001b[0m\u001b[0;34m=\u001b[0m\u001b[0mdf\u001b[0m\u001b[0;34m[\u001b[0m\u001b[0;34m'Point'\u001b[0m\u001b[0;34m]\u001b[0m\u001b[0;34m.\u001b[0m\u001b[0mvalues\u001b[0m\u001b[0;34m\u001b[0m\u001b[0;34m\u001b[0m\u001b[0m\n\u001b[1;32m      8\u001b[0m \u001b[0my\u001b[0m\u001b[0;34m=\u001b[0m\u001b[0mdf\u001b[0m\u001b[0;34m[\u001b[0m\u001b[0;34m'CK'\u001b[0m\u001b[0;34m]\u001b[0m\u001b[0;34m.\u001b[0m\u001b[0mvalues\u001b[0m\u001b[0;34m\u001b[0m\u001b[0;34m\u001b[0m\u001b[0m\n\u001b[0;32m----> 9\u001b[0;31m \u001b[0mfit\u001b[0m\u001b[0;34m=\u001b[0m\u001b[0mnp\u001b[0m\u001b[0;34m.\u001b[0m\u001b[0mpolyfit\u001b[0m\u001b[0;34m(\u001b[0m\u001b[0mstr\u001b[0m\u001b[0;34m(\u001b[0m\u001b[0mx\u001b[0m\u001b[0;34m)\u001b[0m\u001b[0;34m,\u001b[0m\u001b[0mstr\u001b[0m\u001b[0;34m(\u001b[0m\u001b[0my\u001b[0m\u001b[0;34m)\u001b[0m\u001b[0;34m,\u001b[0m\u001b[0mdeg\u001b[0m\u001b[0;34m=\u001b[0m\u001b[0;36m1\u001b[0m\u001b[0;34m)\u001b[0m\u001b[0;34m\u001b[0m\u001b[0;34m\u001b[0m\u001b[0m\n\u001b[0m\u001b[1;32m     10\u001b[0m \u001b[0;34m\u001b[0m\u001b[0m\n\u001b[1;32m     11\u001b[0m \u001b[0;34m\u001b[0m\u001b[0m\n",
            "\u001b[0;32m<__array_function__ internals>\u001b[0m in \u001b[0;36mpolyfit\u001b[0;34m(*args, **kwargs)\u001b[0m\n",
            "\u001b[0;32m/usr/local/lib/python3.7/dist-packages/numpy/lib/polynomial.py\u001b[0m in \u001b[0;36mpolyfit\u001b[0;34m(x, y, deg, rcond, full, w, cov)\u001b[0m\n\u001b[1;32m    588\u001b[0m     \"\"\"\n\u001b[1;32m    589\u001b[0m     \u001b[0morder\u001b[0m \u001b[0;34m=\u001b[0m \u001b[0mint\u001b[0m\u001b[0;34m(\u001b[0m\u001b[0mdeg\u001b[0m\u001b[0;34m)\u001b[0m \u001b[0;34m+\u001b[0m \u001b[0;36m1\u001b[0m\u001b[0;34m\u001b[0m\u001b[0;34m\u001b[0m\u001b[0m\n\u001b[0;32m--> 590\u001b[0;31m     \u001b[0mx\u001b[0m \u001b[0;34m=\u001b[0m \u001b[0mNX\u001b[0m\u001b[0;34m.\u001b[0m\u001b[0masarray\u001b[0m\u001b[0;34m(\u001b[0m\u001b[0mx\u001b[0m\u001b[0;34m)\u001b[0m \u001b[0;34m+\u001b[0m \u001b[0;36m0.0\u001b[0m\u001b[0;34m\u001b[0m\u001b[0;34m\u001b[0m\u001b[0m\n\u001b[0m\u001b[1;32m    591\u001b[0m     \u001b[0my\u001b[0m \u001b[0;34m=\u001b[0m \u001b[0mNX\u001b[0m\u001b[0;34m.\u001b[0m\u001b[0masarray\u001b[0m\u001b[0;34m(\u001b[0m\u001b[0my\u001b[0m\u001b[0;34m)\u001b[0m \u001b[0;34m+\u001b[0m \u001b[0;36m0.0\u001b[0m\u001b[0;34m\u001b[0m\u001b[0;34m\u001b[0m\u001b[0m\n\u001b[1;32m    592\u001b[0m \u001b[0;34m\u001b[0m\u001b[0m\n",
            "\u001b[0;31mUFuncTypeError\u001b[0m: ufunc 'add' did not contain a loop with signature matching types (dtype('<U8236'), dtype('<U8236')) -> dtype('<U8236')"
          ]
        }
      ]
    }
  ]
}