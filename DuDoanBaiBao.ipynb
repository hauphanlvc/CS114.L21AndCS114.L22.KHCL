{
  "nbformat": 4,
  "nbformat_minor": 0,
  "metadata": {
    "colab": {
      "name": "DuDoanBaiBao.ipynb",
      "provenance": [],
      "collapsed_sections": [],
      "authorship_tag": "ABX9TyNDARut3M0yanwwSLLVgipi",
      "include_colab_link": true
    },
    "kernelspec": {
      "name": "python3",
      "display_name": "Python 3"
    },
    "language_info": {
      "name": "python"
    }
  },
  "cells": [
    {
      "cell_type": "markdown",
      "metadata": {
        "id": "view-in-github",
        "colab_type": "text"
      },
      "source": [
        "<a href=\"https://colab.research.google.com/github/hauphanlvc/CS114.L21AndCS114.L22.KHCL/blob/main/DuDoanBaiBao.ipynb\" target=\"_parent\"><img src=\"https://colab.research.google.com/assets/colab-badge.svg\" alt=\"Open In Colab\"/></a>"
      ]
    },
    {
      "cell_type": "markdown",
      "metadata": {
        "id": "CQXszj_lco_7"
      },
      "source": [
        "#1. Những thư viện cần thiết "
      ]
    },
    {
      "cell_type": "code",
      "metadata": {
        "id": "CkXkE0fJcn1p"
      },
      "source": [
        "import numpy as np\n",
        "import os,sys\n",
        "import pandas as pd\n",
        "import seaborn as sns\n",
        "import re\n",
        "import json"
      ],
      "execution_count": 1,
      "outputs": []
    },
    {
      "cell_type": "markdown",
      "metadata": {
        "id": "yBqvY7ruaewy"
      },
      "source": [
        "# 2.Đọc dữ liệu mà nhóm đã thu thập được"
      ]
    },
    {
      "cell_type": "code",
      "metadata": {
        "colab": {
          "base_uri": "https://localhost:8080/"
        },
        "id": "gWnHGI48aeCh",
        "outputId": "337fc51d-0e97-46af-e81c-35573b539972"
      },
      "source": [
        "!git clone https://github.com/hauphanlvc/CS114.L21AndCS114.L22.KHCL.git"
      ],
      "execution_count": 2,
      "outputs": [
        {
          "output_type": "stream",
          "text": [
            "Cloning into 'CS114.L21AndCS114.L22.KHCL'...\n",
            "remote: Enumerating objects: 314, done.\u001b[K\n",
            "remote: Counting objects: 100% (314/314), done.\u001b[K\n",
            "remote: Compressing objects: 100% (273/273), done.\u001b[K\n",
            "remote: Total 314 (delta 122), reused 86 (delta 28), pack-reused 0\u001b[K\n",
            "Receiving objects: 100% (314/314), 21.91 MiB | 8.82 MiB/s, done.\n",
            "Resolving deltas: 100% (122/122), done.\n"
          ],
          "name": "stdout"
        }
      ]
    },
    {
      "cell_type": "code",
      "metadata": {
        "id": "cAiunzbzzJyj"
      },
      "source": [
        "def load_train_data(link):\n",
        "  dirs = os.listdir(link)\n",
        "  train_data = pd.DataFrame()\n",
        "  article_link = []  \n",
        "  headline = []\n",
        "  is_sarcastic = []\n",
        "  for file_json in dirs :\n",
        "      f = open(link + \"/\" + file_json,'r')\n",
        "      for line in f:\n",
        "          try:\n",
        "              value = json.loads(line)\n",
        "              headline.append(value['headline'])\n",
        "              is_sarcastic.append(value['is_sarcastic'])\n",
        "              article_link .append(value['article_link'])\n",
        "          except:\n",
        "              continue   \n",
        "      f.close()\n",
        "  train_data['headline'] = headline\n",
        "  train_data['is_sarcastic'] = is_sarcastic\n",
        "  train_data['article_link'] = article_link\n",
        "  return train_data\n"
      ],
      "execution_count": 3,
      "outputs": []
    },
    {
      "cell_type": "code",
      "metadata": {
        "id": "3HwcCEVgzO-V"
      },
      "source": [
        "link = '/content/CS114.L21AndCS114.L22.KHCL/BTQT/SarcasmDetection/JsonFiles'\n",
        "train_data = load_train_data(link)\n"
      ],
      "execution_count": 4,
      "outputs": []
    },
    {
      "cell_type": "code",
      "metadata": {
        "colab": {
          "base_uri": "https://localhost:8080/",
          "height": 204
        },
        "id": "6rvT-MSgzfDf",
        "outputId": "1225b33f-a8e3-41be-8571-576ba2419840"
      },
      "source": [
        "train_data.head()"
      ],
      "execution_count": 5,
      "outputs": [
        {
          "output_type": "execute_result",
          "data": {
            "text/html": [
              "<div>\n",
              "<style scoped>\n",
              "    .dataframe tbody tr th:only-of-type {\n",
              "        vertical-align: middle;\n",
              "    }\n",
              "\n",
              "    .dataframe tbody tr th {\n",
              "        vertical-align: top;\n",
              "    }\n",
              "\n",
              "    .dataframe thead th {\n",
              "        text-align: right;\n",
              "    }\n",
              "</style>\n",
              "<table border=\"1\" class=\"dataframe\">\n",
              "  <thead>\n",
              "    <tr style=\"text-align: right;\">\n",
              "      <th></th>\n",
              "      <th>headline</th>\n",
              "      <th>is_sarcastic</th>\n",
              "      <th>article_link</th>\n",
              "    </tr>\n",
              "  </thead>\n",
              "  <tbody>\n",
              "    <tr>\n",
              "      <th>0</th>\n",
              "      <td>larry the cat already scratched the shit out o...</td>\n",
              "      <td>1</td>\n",
              "      <td>https://newsthump.com/2021/04/30/larry-the-cat...</td>\n",
              "    </tr>\n",
              "    <tr>\n",
              "      <th>1</th>\n",
              "      <td>queen and other top monarchs to break away and...</td>\n",
              "      <td>1</td>\n",
              "      <td>https://newsthump.com/2021/04/19/queen-and-oth...</td>\n",
              "    </tr>\n",
              "    <tr>\n",
              "      <th>2</th>\n",
              "      <td>boris johnson unveils new look cabinet</td>\n",
              "      <td>1</td>\n",
              "      <td>https://newsthump.com/2020/02/13/boris-johnson...</td>\n",
              "    </tr>\n",
              "    <tr>\n",
              "      <th>3</th>\n",
              "      <td>britain already 36% more british since leaving...</td>\n",
              "      <td>1</td>\n",
              "      <td>https://newsthump.com/2020/02/01/britain-alrea...</td>\n",
              "    </tr>\n",
              "    <tr>\n",
              "      <th>4</th>\n",
              "      <td>queen brilliantly steers attention away from p...</td>\n",
              "      <td>1</td>\n",
              "      <td>https://newsthump.com/2019/08/28/queen-brillia...</td>\n",
              "    </tr>\n",
              "  </tbody>\n",
              "</table>\n",
              "</div>"
            ],
            "text/plain": [
              "                                            headline  ...                                       article_link\n",
              "0  larry the cat already scratched the shit out o...  ...  https://newsthump.com/2021/04/30/larry-the-cat...\n",
              "1  queen and other top monarchs to break away and...  ...  https://newsthump.com/2021/04/19/queen-and-oth...\n",
              "2             boris johnson unveils new look cabinet  ...  https://newsthump.com/2020/02/13/boris-johnson...\n",
              "3  britain already 36% more british since leaving...  ...  https://newsthump.com/2020/02/01/britain-alrea...\n",
              "4  queen brilliantly steers attention away from p...  ...  https://newsthump.com/2019/08/28/queen-brillia...\n",
              "\n",
              "[5 rows x 3 columns]"
            ]
          },
          "metadata": {
            "tags": []
          },
          "execution_count": 5
        }
      ]
    },
    {
      "cell_type": "code",
      "metadata": {
        "colab": {
          "base_uri": "https://localhost:8080/"
        },
        "id": "TmT8xm8szini",
        "outputId": "593b22b8-dcfd-49f8-afe4-3581735e4834"
      },
      "source": [
        "train_data.isna().sum() # kiểm tra dữ liệu có kiểu dữ liệu NaN hay không "
      ],
      "execution_count": 6,
      "outputs": [
        {
          "output_type": "execute_result",
          "data": {
            "text/plain": [
              "headline        0\n",
              "is_sarcastic    0\n",
              "article_link    0\n",
              "dtype: int64"
            ]
          },
          "metadata": {
            "tags": []
          },
          "execution_count": 6
        }
      ]
    },
    {
      "cell_type": "code",
      "metadata": {
        "colab": {
          "base_uri": "https://localhost:8080/"
        },
        "id": "BLKf6-5G2Ony",
        "outputId": "f2d48350-1832-4cd8-dc3c-965f45f2da0c"
      },
      "source": [
        "len(train_data) # độ dài của bộ dữ liệu "
      ],
      "execution_count": 7,
      "outputs": [
        {
          "output_type": "execute_result",
          "data": {
            "text/plain": [
              "432935"
            ]
          },
          "metadata": {
            "tags": []
          },
          "execution_count": 7
        }
      ]
    },
    {
      "cell_type": "code",
      "metadata": {
        "colab": {
          "base_uri": "https://localhost:8080/",
          "height": 351
        },
        "id": "AUKZ7Awr8kvG",
        "outputId": "d0d77ab6-0641-4d5b-c885-244d27eb14d1"
      },
      "source": [
        "sns.set_style(\"dark\")\n",
        "sns.countplot(train_data.is_sarcastic)"
      ],
      "execution_count": 8,
      "outputs": [
        {
          "output_type": "stream",
          "text": [
            "/usr/local/lib/python3.7/dist-packages/seaborn/_decorators.py:43: FutureWarning: Pass the following variable as a keyword arg: x. From version 0.12, the only valid positional argument will be `data`, and passing other arguments without an explicit keyword will result in an error or misinterpretation.\n",
            "  FutureWarning\n"
          ],
          "name": "stderr"
        },
        {
          "output_type": "execute_result",
          "data": {
            "text/plain": [
              "<matplotlib.axes._subplots.AxesSubplot at 0x7fb21d90d810>"
            ]
          },
          "metadata": {
            "tags": []
          },
          "execution_count": 8
        },
        {
          "output_type": "display_data",
          "data": {
            "image/png": "[encoded data removed]",
            "text/plain": [
              "<Figure size 432x288 with 1 Axes>"
            ]
          },
          "metadata": {
            "tags": []
          }
        }
      ]
    },
    {
      "cell_type": "markdown",
      "metadata": {
        "id": "t30hkfZwBWtd"
      },
      "source": [
        "## Nhóm em nhận thấy rằng dữ liệu vẫn chưa được cân bằng , số lượng báo truyền thống lớn hơn rất nhiều so với số lượng báo châm biếm "
      ]
    },
    {
      "cell_type": "markdown",
      "metadata": {
        "id": "_HxA1__LW1-q"
      },
      "source": [
        "# 3. xử lí dữ liệu dùng để test \n"
      ]
    },
    {
      "cell_type": "markdown",
      "metadata": {
        "id": "ewbZO_WVBiu8"
      },
      "source": [
        "- Nhóm em sử dụng dữ liệu dùng để test từ nhóm của bạn Đặng Minh "
      ]
    },
    {
      "cell_type": "code",
      "metadata": {
        "colab": {
          "base_uri": "https://localhost:8080/"
        },
        "id": "OHZdEHCCXG2W",
        "outputId": "21707e2b-7ded-4048-b572-8912f7e1a6c3"
      },
      "source": [
        "!gdown --id 1dM7bCzVlBdRyl1ovAqCMQwH8N5EgsiU5 -O is_sarcastic.json "
      ],
      "execution_count": 9,
      "outputs": [
        {
          "output_type": "stream",
          "text": [
            "Downloading...\n",
            "From: https://drive.google.com/uc?id=1dM7bCzVlBdRyl1ovAqCMQwH8N5EgsiU5\n",
            "To: /content/is_sarcastic.json\n",
            "\r  0% 0.00/1.86M [00:00<?, ?B/s]\r100% 1.86M/1.86M [00:00<00:00, 58.0MB/s]\n"
          ],
          "name": "stdout"
        }
      ]
    },
    {
      "cell_type": "code",
      "metadata": {
        "id": "gBTm11sNs5su"
      },
      "source": [
        "def load_test_data(link):\n",
        "  # dirs = os.listdir(link)\n",
        "  test_data = pd.DataFrame()\n",
        "  article_link = []  \n",
        "  headline = []\n",
        "  is_sarcastic = []\n",
        "  # for file_json in dirs :\n",
        "  f = open(link,'r')\n",
        "  for line in f:\n",
        "      # print(line)\n",
        "      try:\n",
        "          value = json.loads(line)\n",
        "          headline.append(value['headline'])\n",
        "          is_sarcastic.append(value['is_sarcastic'])\n",
        "          article_link .append(value['article_link'])\n",
        "      except :\n",
        "        continue\n",
        "\n",
        "  f.close()\n",
        "  test_data['headline'] = headline\n",
        "  test_data['is_sarcastic'] = is_sarcastic\n",
        "  test_data['article_link'] = article_link\n",
        "  return test_data\n"
      ],
      "execution_count": 10,
      "outputs": []
    },
    {
      "cell_type": "code",
      "metadata": {
        "id": "reBErjDeSLiY"
      },
      "source": [
        "def removen(text): # xóa kí tự \\n trong bộ dữ liệu \n",
        "  return re.sub('\\n', '', text)"
      ],
      "execution_count": 11,
      "outputs": []
    },
    {
      "cell_type": "code",
      "metadata": {
        "id": "0Mmj0z-Evj1x"
      },
      "source": [
        "link_test = '/content/is_sarcastic.json'\n",
        "test_data_is_sarcastic = load_test_data(link_test)\n",
        "\n",
        "test_data_is_sarcastic['headline'] = test_data_is_sarcastic['headline'].apply(removen)"
      ],
      "execution_count": 12,
      "outputs": []
    },
    {
      "cell_type": "code",
      "metadata": {
        "colab": {
          "base_uri": "https://localhost:8080/",
          "height": 204
        },
        "id": "V4N-JYNRv5eN",
        "outputId": "90c97bf4-02b9-4bc3-d20c-c19a606aa759"
      },
      "source": [
        "test_data_is_sarcastic.head()"
      ],
      "execution_count": 13,
      "outputs": [
        {
          "output_type": "execute_result",
          "data": {
            "text/html": [
              "<div>\n",
              "<style scoped>\n",
              "    .dataframe tbody tr th:only-of-type {\n",
              "        vertical-align: middle;\n",
              "    }\n",
              "\n",
              "    .dataframe tbody tr th {\n",
              "        vertical-align: top;\n",
              "    }\n",
              "\n",
              "    .dataframe thead th {\n",
              "        text-align: right;\n",
              "    }\n",
              "</style>\n",
              "<table border=\"1\" class=\"dataframe\">\n",
              "  <thead>\n",
              "    <tr style=\"text-align: right;\">\n",
              "      <th></th>\n",
              "      <th>headline</th>\n",
              "      <th>is_sarcastic</th>\n",
              "      <th>article_link</th>\n",
              "    </tr>\n",
              "  </thead>\n",
              "  <tbody>\n",
              "    <tr>\n",
              "      <th>0</th>\n",
              "      <td>Local MP only got into politics so they could ...</td>\n",
              "      <td>1</td>\n",
              "      <td>https://chaser.com.au/national/local-mp-only-g...</td>\n",
              "    </tr>\n",
              "    <tr>\n",
              "      <th>1</th>\n",
              "      <td>God distances himself from Scott Morrison afte...</td>\n",
              "      <td>1</td>\n",
              "      <td>https://chaser.com.au/national/god-distances-h...</td>\n",
              "    </tr>\n",
              "    <tr>\n",
              "      <th>2</th>\n",
              "      <td>Angus Taylor takes break from dodgy Federal de...</td>\n",
              "      <td>1</td>\n",
              "      <td>https://chaser.com.au/national/angus-taylor-ta...</td>\n",
              "    </tr>\n",
              "    <tr>\n",
              "      <th>3</th>\n",
              "      <td>“Legally you have to tell me if you’re a cop” ...</td>\n",
              "      <td>1</td>\n",
              "      <td>https://chaser.com.au/general-news/legally-you...</td>\n",
              "    </tr>\n",
              "    <tr>\n",
              "      <th>4</th>\n",
              "      <td>“There’s no money to help arts workers” says g...</td>\n",
              "      <td>1</td>\n",
              "      <td>https://chaser.com.au/national/theres-no-money...</td>\n",
              "    </tr>\n",
              "  </tbody>\n",
              "</table>\n",
              "</div>"
            ],
            "text/plain": [
              "                                            headline  ...                                       article_link\n",
              "0  Local MP only got into politics so they could ...  ...  https://chaser.com.au/national/local-mp-only-g...\n",
              "1  God distances himself from Scott Morrison afte...  ...  https://chaser.com.au/national/god-distances-h...\n",
              "2  Angus Taylor takes break from dodgy Federal de...  ...  https://chaser.com.au/national/angus-taylor-ta...\n",
              "3  “Legally you have to tell me if you’re a cop” ...  ...  https://chaser.com.au/general-news/legally-you...\n",
              "4  “There’s no money to help arts workers” says g...  ...  https://chaser.com.au/national/theres-no-money...\n",
              "\n",
              "[5 rows x 3 columns]"
            ]
          },
          "metadata": {
            "tags": []
          },
          "execution_count": 13
        }
      ]
    },
    {
      "cell_type": "code",
      "metadata": {
        "colab": {
          "base_uri": "https://localhost:8080/"
        },
        "id": "-cGZRW4CCj_W",
        "outputId": "2ca2963c-2aa7-4ef7-e358-a9254c4a7fd4"
      },
      "source": [
        "len(test_data_is_sarcastic) "
      ],
      "execution_count": 14,
      "outputs": [
        {
          "output_type": "execute_result",
          "data": {
            "text/plain": [
              "7610"
            ]
          },
          "metadata": {
            "tags": []
          },
          "execution_count": 14
        }
      ]
    },
    {
      "cell_type": "code",
      "metadata": {
        "colab": {
          "base_uri": "https://localhost:8080/"
        },
        "id": "nd-2yYjbwFnH",
        "outputId": "33dce2e4-3cd2-44c7-fbee-bc93d6ad73db"
      },
      "source": [
        "test_data_is_sarcastic.isna().sum() # kiểm tra dữ liệu có kiểu dữ liệu NaN hay không "
      ],
      "execution_count": 15,
      "outputs": [
        {
          "output_type": "execute_result",
          "data": {
            "text/plain": [
              "headline        0\n",
              "is_sarcastic    0\n",
              "article_link    0\n",
              "dtype: int64"
            ]
          },
          "metadata": {
            "tags": []
          },
          "execution_count": 15
        }
      ]
    },
    {
      "cell_type": "code",
      "metadata": {
        "colab": {
          "base_uri": "https://localhost:8080/",
          "height": 351
        },
        "id": "gyBlpv_8B-9D",
        "outputId": "53364697-bb06-4763-a5db-0c62d8657724"
      },
      "source": [
        "sns.set_style(\"dark\")\n",
        "sns.countplot(test_data_is_sarcastic.is_sarcastic)"
      ],
      "execution_count": 16,
      "outputs": [
        {
          "output_type": "stream",
          "text": [
            "/usr/local/lib/python3.7/dist-packages/seaborn/_decorators.py:43: FutureWarning: Pass the following variable as a keyword arg: x. From version 0.12, the only valid positional argument will be `data`, and passing other arguments without an explicit keyword will result in an error or misinterpretation.\n",
            "  FutureWarning\n"
          ],
          "name": "stderr"
        },
        {
          "output_type": "execute_result",
          "data": {
            "text/plain": [
              "<matplotlib.axes._subplots.AxesSubplot at 0x7fb21d389790>"
            ]
          },
          "metadata": {
            "tags": []
          },
          "execution_count": 16
        },
        {
          "output_type": "display_data",
          "data": {
            "image/png": "[encoded data removed]",
            "text/plain": [
              "<Figure size 432x288 with 1 Axes>"
            ]
          },
          "metadata": {
            "tags": []
          }
        }
      ]
    },
    {
      "cell_type": "markdown",
      "metadata": {
        "id": "wkkiUYS8FKaq"
      },
      "source": [
        "- bộ dữ liệu dùng để test gồm 7610 headline là báo châm biếm "
      ]
    },
    {
      "cell_type": "markdown",
      "metadata": {
        "id": "Yqnk6Xvobc4m"
      },
      "source": [
        "## - Tụi em dùng thuật toán linear svm để phân loại headline .\n",
        "## - Tụi em loại bỏ các từ được gọi là stop words của tiếng anh trước khi train model."
      ]
    },
    {
      "cell_type": "code",
      "metadata": {
        "id": "J73U-iHsVO-P"
      },
      "source": [
        "from sklearn.metrics import accuracy_score\n",
        "from sklearn.svm import LinearSVC\n",
        "from sklearn.feature_extraction.text import CountVectorizer\n",
        "#chuyển đổi một bộ sưu tập các tài liệu văn bản thành một vectơ có số lượng thuật ngữ / mã thông báo. Nó cũng cho phép xử lý trước dữ liệu văn bản trước khi tạo biểu diễn vectơ, loại bỏ các từ thuộc Stop words  của tiếng anh\n",
        "# Stop words là \n",
        "def Model(train_data,test_data):\n",
        "  vectorizer = CountVectorizer(stop_words=\"english\")\n",
        "  X_train = train_data['headline']\n",
        "  X_test = test_data['headline']\n",
        "  y_train = train_data['is_sarcastic']\n",
        "  y_test = test_data['is_sarcastic']\n",
        "\n",
        "  # vectorizer = CountVectorizer(stop_words = 'english', preprocessor = clean_text)\n",
        "  training_features = vectorizer.fit_transform(X_train)    \n",
        "  test_features = vectorizer.transform(X_test)\n",
        "\n",
        "  # Training\n",
        "  model = LinearSVC()\n",
        "  model.fit(training_features, y_train)\n",
        "  y_pred = model.predict(test_features)\n",
        "\n",
        "  # Evaluation\n",
        "  acc = accuracy_score(y_test, y_pred)\n",
        "\n",
        "  print(\"Accuracy: {:.2f}\".format(acc*100))\n"
      ],
      "execution_count": 17,
      "outputs": []
    },
    {
      "cell_type": "code",
      "metadata": {
        "colab": {
          "base_uri": "https://localhost:8080/"
        },
        "id": "Xj5ItcyYJ8-c",
        "outputId": "781b7b53-afdb-4a40-9c2d-41e0df94838b"
      },
      "source": [
        "Model(train_data,test_data_is_sarcastic)"
      ],
      "execution_count": 18,
      "outputs": [
        {
          "output_type": "stream",
          "text": [
            "Accuracy: 28.34\n"
          ],
          "name": "stdout"
        }
      ]
    },
    {
      "cell_type": "markdown",
      "metadata": {
        "id": "3qC2wjhAKjGO"
      },
      "source": [
        "# Nhóm em sử dụng bộ dữ liệu gồm các headline là báo chính thống của nhóm bạn Phan Đại Dương để đánh giá model của tụi em "
      ]
    },
    {
      "cell_type": "code",
      "metadata": {
        "colab": {
          "base_uri": "https://localhost:8080/"
        },
        "id": "CS2py1T8KxvD",
        "outputId": "953352b3-5314-4ec6-9c92-48c45df75246"
      },
      "source": [
        "!gdown --id 1_cHBAp6_pdE5gd-lXIqO6Tl1jUCBR14i -O duong_.json\n"
      ],
      "execution_count": 19,
      "outputs": [
        {
          "output_type": "stream",
          "text": [
            "Downloading...\n",
            "From: https://drive.google.com/uc?id=1_cHBAp6_pdE5gd-lXIqO6Tl1jUCBR14i\n",
            "To: /content/duong_.json\n",
            "\r0.00B [00:00, ?B/s]\r6.46MB [00:00, 64.4MB/s]\n"
          ],
          "name": "stdout"
        }
      ]
    },
    {
      "cell_type": "code",
      "metadata": {
        "id": "GIiDp7A_K8-u"
      },
      "source": [
        "link_test = '/content/duong_.json'\n",
        "test_data_non_sarcastic = load_test_data(link_test)\n",
        "\n",
        "test_data_non_sarcastic['headline'] = test_data_non_sarcastic['headline'].apply(removen)"
      ],
      "execution_count": 20,
      "outputs": []
    },
    {
      "cell_type": "code",
      "metadata": {
        "colab": {
          "base_uri": "https://localhost:8080/"
        },
        "id": "Ffr8awNfLFRF",
        "outputId": "085df19e-b321-4799-a2d5-f897ba46ef63"
      },
      "source": [
        "len(test_data_non_sarcastic) "
      ],
      "execution_count": 21,
      "outputs": [
        {
          "output_type": "execute_result",
          "data": {
            "text/plain": [
              "37847"
            ]
          },
          "metadata": {
            "tags": []
          },
          "execution_count": 21
        }
      ]
    },
    {
      "cell_type": "code",
      "metadata": {
        "colab": {
          "base_uri": "https://localhost:8080/",
          "height": 351
        },
        "id": "7FbA8Kd9LIeQ",
        "outputId": "bc58360e-a388-4656-8225-73c04a5e0eea"
      },
      "source": [
        "sns.set_style(\"dark\")\n",
        "sns.countplot(test_data_non_sarcastic.is_sarcastic)"
      ],
      "execution_count": 22,
      "outputs": [
        {
          "output_type": "stream",
          "text": [
            "/usr/local/lib/python3.7/dist-packages/seaborn/_decorators.py:43: FutureWarning: Pass the following variable as a keyword arg: x. From version 0.12, the only valid positional argument will be `data`, and passing other arguments without an explicit keyword will result in an error or misinterpretation.\n",
            "  FutureWarning\n"
          ],
          "name": "stderr"
        },
        {
          "output_type": "execute_result",
          "data": {
            "text/plain": [
              "<matplotlib.axes._subplots.AxesSubplot at 0x7fb2195ba710>"
            ]
          },
          "metadata": {
            "tags": []
          },
          "execution_count": 22
        },
        {
          "output_type": "display_data",
          "data": {
            "image/png": "[encoded data removed]",
            "text/plain": [
              "<Figure size 432x288 with 1 Axes>"
            ]
          },
          "metadata": {
            "tags": []
          }
        }
      ]
    },
    {
      "cell_type": "markdown",
      "metadata": {
        "id": "CYR2OjQXLVFq"
      },
      "source": [
        "- Bộ dữ liệu có tất cả 37847 là báo truyền thống "
      ]
    },
    {
      "cell_type": "code",
      "metadata": {
        "colab": {
          "base_uri": "https://localhost:8080/"
        },
        "id": "dcKmTh23LUKj",
        "outputId": "ba23e287-6b32-42ca-dfe6-1329b68c62e9"
      },
      "source": [
        "Model(train_data,test_data_non_sarcastic)"
      ],
      "execution_count": 23,
      "outputs": [
        {
          "output_type": "stream",
          "text": [
            "Accuracy: 99.10\n"
          ],
          "name": "stdout"
        }
      ]
    },
    {
      "cell_type": "code",
      "metadata": {
        "id": "hamjXT5kMrYP"
      },
      "source": [
        "def DemSoLuong(data): # đếm số lượng báo châm biếm và báo truyền thống trên 1 bộ dữ liệu \n",
        "  SoLuongBaoChamBiem = 0\n",
        "  \n",
        "  for i in range(len(data)):\n",
        "    if data['is_sarcastic'][i] ==  1:\n",
        "      SoLuongBaoChamBiem +=1 \n",
        "  return {SoLuongBaoChamBiem,len(data)-SoLuongBaoChamBiem}\n"
      ],
      "execution_count": 27,
      "outputs": []
    },
    {
      "cell_type": "code",
      "metadata": {
        "colab": {
          "base_uri": "https://localhost:8080/"
        },
        "id": "07wffNIBO2pG",
        "outputId": "c893b823-603a-4a74-c3a3-1fa0b9f29f8c"
      },
      "source": [
        "# với bộ dữ liệu của chúng em dùng để train , thì số lương báo châm biếm và báo truyền thống tỉ lệ là \n",
        "ChamBiem , TruyenThong = DemSoLuong(train_data)\n",
        "print(DemSoLuong(train_data))\n",
        "print('Số lượng báo châm biếm ',ChamBiem)\n",
        "print('Số lượng báo truyền thống',TruyenThong)\n"
      ],
      "execution_count": 28,
      "outputs": [
        {
          "output_type": "stream",
          "text": [
            "{417882, 15053}\n",
            "Số lượng báo châm biếm  417882\n",
            "Số lượng báo truyền thống 15053\n"
          ],
          "name": "stdout"
        }
      ]
    },
    {
      "cell_type": "markdown",
      "metadata": {
        "id": "UlaiZKVCLizm"
      },
      "source": [
        "# Đánh giá :\n",
        "- với bộ dữ liệu mà nhóm thu thập được thì phân loại tốt với báo truyền thống với accuracy là 99.10 nhưng lại tệ với báo châm biếm với accuracy là  28,34\n",
        "- Nhóm em đoán rằng do bộ dữ liệu mà tụi em mình để train chưa được cân bằng , khi tỉ lệ giữa headline của báo châm biếm và báo truyền thống chênh lệch rất lớn  "
      ]
    },
    {
      "cell_type": "markdown",
      "metadata": {
        "id": "xyTNo1EuRCZB"
      },
      "source": [
        "# Điều chỉnh dữ liệu dùng để train "
      ]
    },
    {
      "cell_type": "code",
      "metadata": {
        "id": "1y5NwVBzR9cS"
      },
      "source": [
        "train_non_sarcastic_data = train_data.query(\"is_sarcastic == 0\")\n",
        "train_is_sarcastic_data = train_data.query(\"is_sarcastic == 1\")\n",
        "\n",
        "# source code : https://stackoverflow.com/questions/45699651/error-only-list-like-objects-are-allowed-to-be-passed-to-isin-you-passed-a"
      ],
      "execution_count": 29,
      "outputs": []
    },
    {
      "cell_type": "code",
      "metadata": {
        "colab": {
          "base_uri": "https://localhost:8080/",
          "height": 204
        },
        "id": "PQxAtRFaVcOC",
        "outputId": "74ec7c46-4982-496e-8d6b-ba7af756ac48"
      },
      "source": [
        "train_is_sarcastic_data.head()"
      ],
      "execution_count": 30,
      "outputs": [
        {
          "output_type": "execute_result",
          "data": {
            "text/html": [
              "<div>\n",
              "<style scoped>\n",
              "    .dataframe tbody tr th:only-of-type {\n",
              "        vertical-align: middle;\n",
              "    }\n",
              "\n",
              "    .dataframe tbody tr th {\n",
              "        vertical-align: top;\n",
              "    }\n",
              "\n",
              "    .dataframe thead th {\n",
              "        text-align: right;\n",
              "    }\n",
              "</style>\n",
              "<table border=\"1\" class=\"dataframe\">\n",
              "  <thead>\n",
              "    <tr style=\"text-align: right;\">\n",
              "      <th></th>\n",
              "      <th>headline</th>\n",
              "      <th>is_sarcastic</th>\n",
              "      <th>article_link</th>\n",
              "    </tr>\n",
              "  </thead>\n",
              "  <tbody>\n",
              "    <tr>\n",
              "      <th>0</th>\n",
              "      <td>larry the cat already scratched the shit out o...</td>\n",
              "      <td>1</td>\n",
              "      <td>https://newsthump.com/2021/04/30/larry-the-cat...</td>\n",
              "    </tr>\n",
              "    <tr>\n",
              "      <th>1</th>\n",
              "      <td>queen and other top monarchs to break away and...</td>\n",
              "      <td>1</td>\n",
              "      <td>https://newsthump.com/2021/04/19/queen-and-oth...</td>\n",
              "    </tr>\n",
              "    <tr>\n",
              "      <th>2</th>\n",
              "      <td>boris johnson unveils new look cabinet</td>\n",
              "      <td>1</td>\n",
              "      <td>https://newsthump.com/2020/02/13/boris-johnson...</td>\n",
              "    </tr>\n",
              "    <tr>\n",
              "      <th>3</th>\n",
              "      <td>britain already 36% more british since leaving...</td>\n",
              "      <td>1</td>\n",
              "      <td>https://newsthump.com/2020/02/01/britain-alrea...</td>\n",
              "    </tr>\n",
              "    <tr>\n",
              "      <th>4</th>\n",
              "      <td>queen brilliantly steers attention away from p...</td>\n",
              "      <td>1</td>\n",
              "      <td>https://newsthump.com/2019/08/28/queen-brillia...</td>\n",
              "    </tr>\n",
              "  </tbody>\n",
              "</table>\n",
              "</div>"
            ],
            "text/plain": [
              "                                            headline  ...                                       article_link\n",
              "0  larry the cat already scratched the shit out o...  ...  https://newsthump.com/2021/04/30/larry-the-cat...\n",
              "1  queen and other top monarchs to break away and...  ...  https://newsthump.com/2021/04/19/queen-and-oth...\n",
              "2             boris johnson unveils new look cabinet  ...  https://newsthump.com/2020/02/13/boris-johnson...\n",
              "3  britain already 36% more british since leaving...  ...  https://newsthump.com/2020/02/01/britain-alrea...\n",
              "4  queen brilliantly steers attention away from p...  ...  https://newsthump.com/2019/08/28/queen-brillia...\n",
              "\n",
              "[5 rows x 3 columns]"
            ]
          },
          "metadata": {
            "tags": []
          },
          "execution_count": 30
        }
      ]
    },
    {
      "cell_type": "code",
      "metadata": {
        "colab": {
          "base_uri": "https://localhost:8080/",
          "height": 204
        },
        "id": "9pqs3emGVtRV",
        "outputId": "35f63ed7-fdd4-4299-c03a-7558aacce6b2"
      },
      "source": [
        "train_non_sarcastic_data.head()"
      ],
      "execution_count": 31,
      "outputs": [
        {
          "output_type": "execute_result",
          "data": {
            "text/html": [
              "<div>\n",
              "<style scoped>\n",
              "    .dataframe tbody tr th:only-of-type {\n",
              "        vertical-align: middle;\n",
              "    }\n",
              "\n",
              "    .dataframe tbody tr th {\n",
              "        vertical-align: top;\n",
              "    }\n",
              "\n",
              "    .dataframe thead th {\n",
              "        text-align: right;\n",
              "    }\n",
              "</style>\n",
              "<table border=\"1\" class=\"dataframe\">\n",
              "  <thead>\n",
              "    <tr style=\"text-align: right;\">\n",
              "      <th></th>\n",
              "      <th>headline</th>\n",
              "      <th>is_sarcastic</th>\n",
              "      <th>article_link</th>\n",
              "    </tr>\n",
              "  </thead>\n",
              "  <tbody>\n",
              "    <tr>\n",
              "      <th>15053</th>\n",
              "      <td>‘no realistic path’ for quick vote on $2,000 s...</td>\n",
              "      <td>0</td>\n",
              "      <td>https://www.nytimes.com/2020/12/30/us/politics...</td>\n",
              "    </tr>\n",
              "    <tr>\n",
              "      <th>15054</th>\n",
              "      <td>the bomb that struck the heart of nashville</td>\n",
              "      <td>0</td>\n",
              "      <td>https://www.nytimes.com/2020/12/30/opinion/nas...</td>\n",
              "    </tr>\n",
              "    <tr>\n",
              "      <th>15055</th>\n",
              "      <td>closing of air traffic control center for viru...</td>\n",
              "      <td>0</td>\n",
              "      <td>https://www.nytimes.com/2020/12/30/us/dfw-airp...</td>\n",
              "    </tr>\n",
              "    <tr>\n",
              "      <th>15056</th>\n",
              "      <td>the small colorado town felt insulated from th...</td>\n",
              "      <td>0</td>\n",
              "      <td>https://www.nytimes.com/2020/12/30/us/simla-co...</td>\n",
              "    </tr>\n",
              "    <tr>\n",
              "      <th>15057</th>\n",
              "      <td>critics say nashville police could have done m...</td>\n",
              "      <td>0</td>\n",
              "      <td>https://www.nytimes.com/2020/12/30/us/nashvill...</td>\n",
              "    </tr>\n",
              "  </tbody>\n",
              "</table>\n",
              "</div>"
            ],
            "text/plain": [
              "                                                headline  ...                                       article_link\n",
              "15053  ‘no realistic path’ for quick vote on $2,000 s...  ...  https://www.nytimes.com/2020/12/30/us/politics...\n",
              "15054        the bomb that struck the heart of nashville  ...  https://www.nytimes.com/2020/12/30/opinion/nas...\n",
              "15055  closing of air traffic control center for viru...  ...  https://www.nytimes.com/2020/12/30/us/dfw-airp...\n",
              "15056  the small colorado town felt insulated from th...  ...  https://www.nytimes.com/2020/12/30/us/simla-co...\n",
              "15057  critics say nashville police could have done m...  ...  https://www.nytimes.com/2020/12/30/us/nashvill...\n",
              "\n",
              "[5 rows x 3 columns]"
            ]
          },
          "metadata": {
            "tags": []
          },
          "execution_count": 31
        }
      ]
    },
    {
      "cell_type": "code",
      "metadata": {
        "colab": {
          "base_uri": "https://localhost:8080/"
        },
        "id": "cVuus1vtTvMu",
        "outputId": "dc780c1e-56c1-4f0c-9ab4-f3f069084d31"
      },
      "source": [
        "print('số lượng báo truyền thống :',len(train_non_sarcastic_data))\n",
        "print('số lượng báo châm biếm  :',len(train_is_sarcastic_data))"
      ],
      "execution_count": 32,
      "outputs": [
        {
          "output_type": "stream",
          "text": [
            "số lượng báo truyền thống : 417882\n",
            "số lượng báo châm biếm  : 15053\n"
          ],
          "name": "stdout"
        }
      ]
    },
    {
      "cell_type": "markdown",
      "metadata": {
        "id": "XzfLB0oiUjKv"
      },
      "source": [
        "- Ta tiền hành giảm số lượng báo truyền thống còn bằng với số lượng báo châm biếm để tạo dữ liệu để train mới"
      ]
    },
    {
      "cell_type": "code",
      "metadata": {
        "colab": {
          "base_uri": "https://localhost:8080/"
        },
        "id": "XYkIS2fYUiCr",
        "outputId": "9ccb7f8e-fa08-4bbb-e33a-aa1a7f1147dd"
      },
      "source": [
        "new_train_data = train_is_sarcastic_data.append(train_non_sarcastic_data[:len(train_is_sarcastic_data)+1])\n",
        "print('kích thước của bộ dữ liệu mới :', len(new_train_data))"
      ],
      "execution_count": 33,
      "outputs": [
        {
          "output_type": "stream",
          "text": [
            "kích thước của bộ dữ liệu mới : 30107\n"
          ],
          "name": "stdout"
        }
      ]
    },
    {
      "cell_type": "code",
      "metadata": {
        "colab": {
          "base_uri": "https://localhost:8080/",
          "height": 419
        },
        "id": "i-74BuEzVW4v",
        "outputId": "8a738fce-ee87-4e64-cf9a-3f10c37c0dd2"
      },
      "source": [
        "new_train_data"
      ],
      "execution_count": 34,
      "outputs": [
        {
          "output_type": "execute_result",
          "data": {
            "text/html": [
              "<div>\n",
              "<style scoped>\n",
              "    .dataframe tbody tr th:only-of-type {\n",
              "        vertical-align: middle;\n",
              "    }\n",
              "\n",
              "    .dataframe tbody tr th {\n",
              "        vertical-align: top;\n",
              "    }\n",
              "\n",
              "    .dataframe thead th {\n",
              "        text-align: right;\n",
              "    }\n",
              "</style>\n",
              "<table border=\"1\" class=\"dataframe\">\n",
              "  <thead>\n",
              "    <tr style=\"text-align: right;\">\n",
              "      <th></th>\n",
              "      <th>headline</th>\n",
              "      <th>is_sarcastic</th>\n",
              "      <th>article_link</th>\n",
              "    </tr>\n",
              "  </thead>\n",
              "  <tbody>\n",
              "    <tr>\n",
              "      <th>0</th>\n",
              "      <td>larry the cat already scratched the shit out o...</td>\n",
              "      <td>1</td>\n",
              "      <td>https://newsthump.com/2021/04/30/larry-the-cat...</td>\n",
              "    </tr>\n",
              "    <tr>\n",
              "      <th>1</th>\n",
              "      <td>queen and other top monarchs to break away and...</td>\n",
              "      <td>1</td>\n",
              "      <td>https://newsthump.com/2021/04/19/queen-and-oth...</td>\n",
              "    </tr>\n",
              "    <tr>\n",
              "      <th>2</th>\n",
              "      <td>boris johnson unveils new look cabinet</td>\n",
              "      <td>1</td>\n",
              "      <td>https://newsthump.com/2020/02/13/boris-johnson...</td>\n",
              "    </tr>\n",
              "    <tr>\n",
              "      <th>3</th>\n",
              "      <td>britain already 36% more british since leaving...</td>\n",
              "      <td>1</td>\n",
              "      <td>https://newsthump.com/2020/02/01/britain-alrea...</td>\n",
              "    </tr>\n",
              "    <tr>\n",
              "      <th>4</th>\n",
              "      <td>queen brilliantly steers attention away from p...</td>\n",
              "      <td>1</td>\n",
              "      <td>https://newsthump.com/2019/08/28/queen-brillia...</td>\n",
              "    </tr>\n",
              "    <tr>\n",
              "      <th>...</th>\n",
              "      <td>...</td>\n",
              "      <td>...</td>\n",
              "      <td>...</td>\n",
              "    </tr>\n",
              "    <tr>\n",
              "      <th>30102</th>\n",
              "      <td>trump polls in red states: women favor joe biden</td>\n",
              "      <td>0</td>\n",
              "      <td>https://www.nytimes.com/2020/09/24/us/politics...</td>\n",
              "    </tr>\n",
              "    <tr>\n",
              "      <th>30103</th>\n",
              "      <td>17 new books to watch for in october</td>\n",
              "      <td>0</td>\n",
              "      <td>https://www.nytimes.com/2020/09/24/books/octob...</td>\n",
              "    </tr>\n",
              "    <tr>\n",
              "      <th>30104</th>\n",
              "      <td>what will it take to vote in milwaukee?</td>\n",
              "      <td>0</td>\n",
              "      <td>https://www.nytimes.com/2020/09/24/us/politics...</td>\n",
              "    </tr>\n",
              "    <tr>\n",
              "      <th>30105</th>\n",
              "      <td>times square, grand central and the laws that ...</td>\n",
              "      <td>0</td>\n",
              "      <td>https://www.nytimes.com/2020/09/24/arts/design...</td>\n",
              "    </tr>\n",
              "    <tr>\n",
              "      <th>30106</th>\n",
              "      <td>home sales surge in brooklyn</td>\n",
              "      <td>0</td>\n",
              "      <td>https://www.nytimes.com/2020/09/24/realestate/...</td>\n",
              "    </tr>\n",
              "  </tbody>\n",
              "</table>\n",
              "<p>30107 rows × 3 columns</p>\n",
              "</div>"
            ],
            "text/plain": [
              "                                                headline  ...                                       article_link\n",
              "0      larry the cat already scratched the shit out o...  ...  https://newsthump.com/2021/04/30/larry-the-cat...\n",
              "1      queen and other top monarchs to break away and...  ...  https://newsthump.com/2021/04/19/queen-and-oth...\n",
              "2                 boris johnson unveils new look cabinet  ...  https://newsthump.com/2020/02/13/boris-johnson...\n",
              "3      britain already 36% more british since leaving...  ...  https://newsthump.com/2020/02/01/britain-alrea...\n",
              "4      queen brilliantly steers attention away from p...  ...  https://newsthump.com/2019/08/28/queen-brillia...\n",
              "...                                                  ...  ...                                                ...\n",
              "30102   trump polls in red states: women favor joe biden  ...  https://www.nytimes.com/2020/09/24/us/politics...\n",
              "30103               17 new books to watch for in october  ...  https://www.nytimes.com/2020/09/24/books/octob...\n",
              "30104            what will it take to vote in milwaukee?  ...  https://www.nytimes.com/2020/09/24/us/politics...\n",
              "30105  times square, grand central and the laws that ...  ...  https://www.nytimes.com/2020/09/24/arts/design...\n",
              "30106                       home sales surge in brooklyn  ...  https://www.nytimes.com/2020/09/24/realestate/...\n",
              "\n",
              "[30107 rows x 3 columns]"
            ]
          },
          "metadata": {
            "tags": []
          },
          "execution_count": 34
        }
      ]
    },
    {
      "cell_type": "code",
      "metadata": {
        "colab": {
          "base_uri": "https://localhost:8080/"
        },
        "id": "jZLV3GxZY7gI",
        "outputId": "09dd1517-228f-4a7c-a285-4d8c4a9d49e5"
      },
      "source": [
        "new_train_data.isna().sum() # kiểm tra dữ liệu có kiểu dữ liệu NaN hay không "
      ],
      "execution_count": 35,
      "outputs": [
        {
          "output_type": "execute_result",
          "data": {
            "text/plain": [
              "headline        0\n",
              "is_sarcastic    0\n",
              "article_link    0\n",
              "dtype: int64"
            ]
          },
          "metadata": {
            "tags": []
          },
          "execution_count": 35
        }
      ]
    },
    {
      "cell_type": "code",
      "metadata": {
        "colab": {
          "base_uri": "https://localhost:8080/",
          "height": 351
        },
        "id": "vvW1cqqeVJrx",
        "outputId": "f616a267-3da9-45df-c94c-c211eea927ea"
      },
      "source": [
        "# đồ thị biểu diễn độ tương quan giữa 2 loại báo trên bộ dữ liệu train mới \n",
        "sns.set_style(\"dark\")\n",
        "sns.countplot(new_train_data.is_sarcastic)"
      ],
      "execution_count": 36,
      "outputs": [
        {
          "output_type": "stream",
          "text": [
            "/usr/local/lib/python3.7/dist-packages/seaborn/_decorators.py:43: FutureWarning: Pass the following variable as a keyword arg: x. From version 0.12, the only valid positional argument will be `data`, and passing other arguments without an explicit keyword will result in an error or misinterpretation.\n",
            "  FutureWarning\n"
          ],
          "name": "stderr"
        },
        {
          "output_type": "execute_result",
          "data": {
            "text/plain": [
              "<matplotlib.axes._subplots.AxesSubplot at 0x7fb219576ed0>"
            ]
          },
          "metadata": {
            "tags": []
          },
          "execution_count": 36
        },
        {
          "output_type": "display_data",
          "data": {
            "image/png": "[encoded data removed]",
            "text/plain": [
              "<Figure size 432x288 with 1 Axes>"
            ]
          },
          "metadata": {
            "tags": []
          }
        }
      ]
    },
    {
      "cell_type": "code",
      "metadata": {
        "colab": {
          "base_uri": "https://localhost:8080/"
        },
        "id": "C2Wl13-rZLaa",
        "outputId": "f53d5d06-323d-4e6e-b128-0f69812f6e6b"
      },
      "source": [
        "Model(new_train_data,test_data_non_sarcastic) # kiểm tra trên dữ liệu là báo chính thống"
      ],
      "execution_count": 37,
      "outputs": [
        {
          "output_type": "stream",
          "text": [
            "Accuracy: 84.00\n"
          ],
          "name": "stdout"
        }
      ]
    },
    {
      "cell_type": "code",
      "metadata": {
        "colab": {
          "base_uri": "https://localhost:8080/"
        },
        "id": "sPZ4kQpPZTU1",
        "outputId": "51bbcfd4-40a6-4c4a-8855-067486f994e2"
      },
      "source": [
        "Model(new_train_data,test_data_is_sarcastic) # kiểm tra trên dữ liệu là báo châm biếm"
      ],
      "execution_count": 38,
      "outputs": [
        {
          "output_type": "stream",
          "text": [
            "Accuracy: 67.69\n"
          ],
          "name": "stdout"
        }
      ]
    },
    {
      "cell_type": "markdown",
      "metadata": {
        "id": "WBqtstQ0ahfl"
      },
      "source": [
        "# Nhận xét :\n",
        "- sau khi điều chỉnh bộ dữ liệu dùng để train model , accuracy trên 2 bộ dữ liệu đã điều chỉnh đã thay đổi 1 nhiều hơn với bộ dữ liệu chỉ toàn là báo chính thống thì accuracy giảm từ 99.10 thành 84.00 và ngược lại chỉ toàn báo châm thống thì accuracy tăng từ 28.34 thành 67.69"
      ]
    },
    {
      "cell_type": "markdown",
      "metadata": {
        "id": "BVaecpYsdweW"
      },
      "source": [
        "# nguồn tài liệu kham khảo :\n",
        "- https://medium.com/data-from-the-trenches/text-classification-the-first-step-toward-nlp-mastery-f5f95d525d73 \n",
        "- https://www.kaggle.com/madz2000/sarcasm-detection-with-glove-word2vec-83-accuracy\n"
      ]
    }
  ]
}