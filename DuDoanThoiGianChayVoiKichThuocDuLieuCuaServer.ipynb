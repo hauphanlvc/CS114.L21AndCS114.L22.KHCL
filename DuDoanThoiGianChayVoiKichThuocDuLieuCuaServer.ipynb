{
  "nbformat": 4,
  "nbformat_minor": 0,
  "metadata": {
    "colab": {
      "name": "DuDoanThoiGianChayVoiKichThuocDuLieuCuaServer.ipynb",
      "provenance": [],
      "collapsed_sections": [],
      "authorship_tag": "ABX9TyPcYycDbwSahcRqhiYozs56",
      "include_colab_link": true
    },
    "kernelspec": {
      "name": "python3",
      "display_name": "Python 3"
    },
    "language_info": {
      "name": "python"
    }
  },
  "cells": [
    {
      "cell_type": "markdown",
      "metadata": {
        "id": "view-in-github",
        "colab_type": "text"
      },
      "source": [
        "<a href=\"https://colab.research.google.com/github/hauphanlvc/CS114.L21AndCS114.L22.KHCL/blob/Hau/DuDoanThoiGianChayVoiKichThuocDuLieuCuaServer.ipynb\" target=\"_parent\"><img src=\"https://colab.research.google.com/assets/colab-badge.svg\" alt=\"Open In Colab\"/></a>"
      ]
    },
    {
      "cell_type": "markdown",
      "metadata": {
        "id": "bqehqvlp1vbL"
      },
      "source": [
        "# Train model linear regression"
      ]
    },
    {
      "cell_type": "code",
      "metadata": {
        "colab": {
          "base_uri": "https://localhost:8080/"
        },
        "id": "CANtdy2D5Tqp",
        "outputId": "63e9c155-484c-4fd1-cfa6-7deaeb0f404f"
      },
      "source": [
        "!wget http://cs.uit.edu.vn/data2.txt "
      ],
      "execution_count": 1,
      "outputs": [
        {
          "output_type": "stream",
          "text": [
            "--2021-05-10 01:00:23--  http://cs.uit.edu.vn/data2.txt\n",
            "Resolving cs.uit.edu.vn (cs.uit.edu.vn)... 118.69.123.142\n",
            "Connecting to cs.uit.edu.vn (cs.uit.edu.vn)|118.69.123.142|:80... connected.\n",
            "HTTP request sent, awaiting response... 200 OK\n",
            "Length: 1203726 (1.1M) [text/plain]\n",
            "Saving to: ‘data2.txt’\n",
            "\n",
            "data2.txt           100%[===================>]   1.15M   894KB/s    in 1.3s    \n",
            "\n",
            "2021-05-10 01:00:25 (894 KB/s) - ‘data2.txt’ saved [1203726/1203726]\n",
            "\n"
          ],
          "name": "stdout"
        }
      ]
    },
    {
      "cell_type": "code",
      "metadata": {
        "id": "kngNxOdZ6C-Z"
      },
      "source": [
        "import matplotlib.pyplot as plt\n",
        "import numpy as np\n",
        "from sklearn import datasets, linear_model\n",
        "from sklearn.metrics import mean_squared_error, r2_score"
      ],
      "execution_count": 2,
      "outputs": []
    },
    {
      "cell_type": "code",
      "metadata": {
        "id": "Nt-S64jQ63_U"
      },
      "source": [
        "\n",
        "# importing pandas library\n",
        "import pandas as pd\n",
        "  \n",
        "# reading given csv file \n",
        "# and creating dataframe\n",
        "websites = pd.read_csv(\"data2.txt\",header = None)\n",
        "  \n",
        "# adding column headings\n",
        "websites.columns = ['KichThuocDuLieu','ThoiGian']\n",
        "  \n",
        "# store dataframe into csv file\n",
        "websites.to_csv('data.csv',index = None)"
      ],
      "execution_count": 3,
      "outputs": []
    },
    {
      "cell_type": "code",
      "metadata": {
        "id": "hAEGWsFI7FJx"
      },
      "source": [
        "import pandas as pd\n",
        "import numpy as np\n",
        "\n",
        "df = pd.read_csv(\"data.csv\")\n",
        "\n",
        "X = np.array(df['KichThuocDuLieu']).reshape(-1,1)\n",
        "Y = np.array(df['ThoiGian']).reshape(-1,1)\n"
      ],
      "execution_count": 4,
      "outputs": []
    },
    {
      "cell_type": "code",
      "metadata": {
        "id": "AVysTl4M7iCA"
      },
      "source": [
        "import numpy as np\n",
        "from sklearn.linear_model import LinearRegression\n",
        "reg = LinearRegression().fit(X, Y)"
      ],
      "execution_count": 5,
      "outputs": []
    },
    {
      "cell_type": "code",
      "metadata": {
        "colab": {
          "base_uri": "https://localhost:8080/"
        },
        "id": "XzRV7v_q-fUE",
        "outputId": "acc19f75-d90e-406c-82cf-4ba29ccc6401"
      },
      "source": [
        "!wget http://cs.uit.edu.vn/data3.txt "
      ],
      "execution_count": 6,
      "outputs": [
        {
          "output_type": "stream",
          "text": [
            "--2021-05-10 01:00:56--  http://cs.uit.edu.vn/data3.txt\n",
            "Resolving cs.uit.edu.vn (cs.uit.edu.vn)... 118.69.123.142\n",
            "Connecting to cs.uit.edu.vn (cs.uit.edu.vn)|118.69.123.142|:80... connected.\n",
            "HTTP request sent, awaiting response... 200 OK\n",
            "Length: 178891 (175K) [text/plain]\n",
            "Saving to: ‘data3.txt’\n",
            "\n",
            "data3.txt           100%[===================>] 174.70K   265KB/s    in 0.7s    \n",
            "\n",
            "2021-05-10 01:00:57 (265 KB/s) - ‘data3.txt’ saved [178891/178891]\n",
            "\n"
          ],
          "name": "stdout"
        }
      ]
    },
    {
      "cell_type": "code",
      "metadata": {
        "id": "K33Lns6MA-Sd"
      },
      "source": [
        "# importing pandas library\n",
        "import pandas as pd\n",
        "  \n",
        "# reading given csv file \n",
        "# and creating dataframe\n",
        "websites = pd.read_csv(\"data3.txt\",header = None)\n",
        "  \n",
        "# adding column headings\n",
        "websites.columns = ['KichThuocDuLieu','ThoiGian']\n",
        "  \n",
        "# store dataframe into csv file\n",
        "websites.to_csv('data3.csv',index = None)"
      ],
      "execution_count": 7,
      "outputs": []
    },
    {
      "cell_type": "code",
      "metadata": {
        "id": "sW3IPD8ABSrM"
      },
      "source": [
        "import pandas as pd\n",
        "import numpy as np\n",
        "\n",
        "df_1 = pd.read_csv(\"data3.csv\")\n",
        "\n",
        "X_1 = np.array(df['KichThuocDuLieu']).reshape(-1,1)\n",
        "Y_1 = np.array(df['ThoiGian']).reshape(-1,1)"
      ],
      "execution_count": 8,
      "outputs": []
    },
    {
      "cell_type": "code",
      "metadata": {
        "id": "javzdhUPBgTs"
      },
      "source": [
        "Y_predict = reg.predict(X_1)"
      ],
      "execution_count": 9,
      "outputs": []
    },
    {
      "cell_type": "code",
      "metadata": {
        "colab": {
          "base_uri": "https://localhost:8080/"
        },
        "id": "fZyIVn5EBzIe",
        "outputId": "c72a30a3-8bda-46da-f08b-fd02d42ccec6"
      },
      "source": [
        "from sklearn.metrics import mean_squared_error\n",
        "import math\n",
        "print((mean_squared_error(Y_1,Y_predict)))"
      ],
      "execution_count": 13,
      "outputs": [
        {
          "output_type": "stream",
          "text": [
            "0.00014337728721748832\n"
          ],
          "name": "stdout"
        }
      ]
    }
  ]
}